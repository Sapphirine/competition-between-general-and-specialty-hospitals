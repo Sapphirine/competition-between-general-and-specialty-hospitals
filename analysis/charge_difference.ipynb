{
 "cells": [
  {
   "cell_type": "code",
   "execution_count": 35,
   "metadata": {
    "collapsed": false
   },
   "outputs": [
    {
     "name": "stdout",
     "output_type": "stream",
     "text": [
      "Using matplotlib backend: MacOSX\n"
     ]
    }
   ],
   "source": [
    "import pandas as pd\n",
    "import numpy as np\n",
    "from sklearn.preprocessing import MultiLabelBinarizer\n",
    "mlb = MultiLabelBinarizer()\n",
    "import matplotlib.pyplot as plt\n",
    "%matplotlib auto\n",
    "\n",
    "general = pd.read_csv('general_hip.csv')\n",
    "joint = pd.read_csv('joint_hip.csv')\n",
    "\n",
    "label_temp = list(general['Total Charges'])\n",
    "label = []\n",
    "for i in label_temp:\n",
    "    label.append(float(i[1:]))\n",
    "num_variable = len(label)\n",
    "cost = label\n",
    "label = np.array(label)/general['Length of Stay']\n",
    "los = general['Length of Stay']\n",
    "del general['Total Charges']\n",
    "del general['Length of Stay']\n",
    "l = list(general.columns.values)\n",
    "variable = []\n",
    "for i in l[1:]:\n",
    "    variable.append(list(general[i]))\n",
    "\n",
    "dic = {'18 to 29':1, '30 to 49':2, '50 to 69':3, '70 or Older':4}\n",
    "temp = []\n",
    "class_name = ['age']\n",
    "for age in variable[0]:\n",
    "    temp.append(dic[age])\n",
    "feature = np.array(temp).reshape((num_variable,1))\n",
    "for (N,i) in enumerate(variable[1:]):\n",
    "    if N == 6:\n",
    "        feature = np.hstack((feature,np.array(i).reshape((num_variable,1))))\n",
    "        class_name.append('APR Severity of Illness Code')\n",
    "    else:\n",
    "        temp = mlb.fit_transform(zip(i))\n",
    "        feature = np.hstack((feature,temp))\n",
    "        class_name += list(mlb.classes_)\n",
    "feature_general = feature\n",
    "variable_general = variable\n",
    "label_general = label\n",
    "los_general = los\n",
    "cost_general = pd.Series(cost)\n",
    "\n",
    "label_temp = list(joint['Total Charges'])\n",
    "label = []\n",
    "for i in label_temp:\n",
    "    label.append(float(i[1:]))\n",
    "num_variable = len(label)\n",
    "cost = label\n",
    "label = np.array(label)/joint['Length of Stay']\n",
    "los = joint['Length of Stay']\n",
    "del joint['Total Charges']\n",
    "del joint['Length of Stay']\n",
    "l = list(joint.columns.values)\n",
    "variable = []\n",
    "for i in l[1:]:\n",
    "    variable.append(list(joint[i]))\n",
    "\n",
    "dic = {'0 to 17':0,'18 to 29':1, '30 to 49':2, '50 to 69':3, '70 or Older':4}\n",
    "temp = []\n",
    "class_name = ['age']\n",
    "for age in variable[0]:\n",
    "    temp.append(dic[age])\n",
    "feature = np.array(temp).reshape((num_variable,1))\n",
    "for (N,i) in enumerate(variable[1:]):\n",
    "    if N == 6:\n",
    "        feature = np.hstack((feature,np.array(i).reshape((num_variable,1))))\n",
    "        class_name.append('APR Severity of Illness Code')\n",
    "    else:\n",
    "        temp = mlb.fit_transform(zip(i))\n",
    "        feature = np.hstack((feature,temp))\n",
    "        class_name += list(mlb.classes_)\n",
    "feature_joint = feature\n",
    "variable_joint = variable\n",
    "label_joint = label\n",
    "los_joint = los\n",
    "cost_joint = pd.Series(cost)"
   ]
  },
  {
   "cell_type": "code",
   "execution_count": 37,
   "metadata": {
    "collapsed": false
   },
   "outputs": [],
   "source": [
    "# total cost/day\n",
    "label_general.hist(bins = 50,alpha = 0.3,color = 'blue')\n",
    "label_joint.hist(bins = 50,alpha = 0.3,color = 'red')\n",
    "plt.show()"
   ]
  },
  {
   "cell_type": "code",
   "execution_count": 38,
   "metadata": {
    "collapsed": false
   },
   "outputs": [],
   "source": [
    "# cost/day of severity 1\n",
    "label_general[general['APR Severity of Illness Code'] == 1].hist(bins = 50,alpha = 0.3,color = 'blue')\n",
    "label_joint[joint['APR Severity of Illness Code'] == 1].hist(bins = 50,alpha = 0.3,color = 'red')\n",
    "plt.show()"
   ]
  },
  {
   "cell_type": "code",
   "execution_count": 41,
   "metadata": {
    "collapsed": false
   },
   "outputs": [],
   "source": [
    "# cost/day of severity 2\n",
    "label_general[general['APR Severity of Illness Code'] == 2].hist(bins = 50,alpha = 0.3,color = 'blue')\n",
    "label_joint[joint['APR Severity of Illness Code'] == 2].hist(bins = 50,alpha = 0.3,color = 'red')\n",
    "plt.show()"
   ]
  },
  {
   "cell_type": "code",
   "execution_count": 43,
   "metadata": {
    "collapsed": false
   },
   "outputs": [],
   "source": [
    "general['APR Severity of Illness Code'].hist(alpha = 0.3,color = 'blue')\n",
    "joint['APR Severity of Illness Code'].hist(alpha = 0.3,color = 'red')\n",
    "plt.show()"
   ]
  },
  {
   "cell_type": "code",
   "execution_count": 44,
   "metadata": {
    "collapsed": false
   },
   "outputs": [],
   "source": [
    "# los\n",
    "los_general.hist(bins = 130,alpha = 0.3,color = 'blue')\n",
    "los_joint.hist(bins = 25,alpha = 0.3,color = 'red')\n",
    "plt.show()"
   ]
  },
  {
   "cell_type": "code",
   "execution_count": 45,
   "metadata": {
    "collapsed": false
   },
   "outputs": [],
   "source": [
    "# cost\n",
    "cost_general.hist(bins = 130,alpha = 0.3,color = 'blue')\n",
    "cost_joint.hist(bins = 130,alpha = 0.3,color = 'red')\n",
    "plt.show()"
   ]
  },
  {
   "cell_type": "code",
   "execution_count": 8,
   "metadata": {
    "collapsed": false
   },
   "outputs": [
    {
     "name": "stdout",
     "output_type": "stream",
     "text": [
      "Counter({'50 to 69': 627, '70 or Older': 584, '30 to 49': 131, '18 to 29': 11})\n",
      "Counter({'50 to 69': 922, '70 or Older': 388, '30 to 49': 186, '18 to 29': 14, '0 to 17': 3})\n"
     ]
    }
   ],
   "source": [
    "from collections import Counter\n",
    "print(Counter(general['Age Group']))\n",
    "print(Counter(joint['Age Group']))"
   ]
  },
  {
   "cell_type": "code",
   "execution_count": 9,
   "metadata": {
    "collapsed": false
   },
   "outputs": [
    {
     "name": "stdout",
     "output_type": "stream",
     "text": [
      "Counter({'F': 739, 'M': 614})\n",
      "Counter({'F': 818, 'M': 695})\n"
     ]
    }
   ],
   "source": [
    "print(Counter(general['Gender']))\n",
    "print(Counter(joint['Gender']))"
   ]
  },
  {
   "cell_type": "code",
   "execution_count": 10,
   "metadata": {
    "collapsed": false
   },
   "outputs": [
    {
     "name": "stdout",
     "output_type": "stream",
     "text": [
      "Counter({'White': 816, 'Other Race': 294, 'Black/African American': 238, 'Multi-racial': 5})\n",
      "Counter({'White': 1163, 'Other Race': 183, 'Black/African American': 159, 'Multi-racial': 8})\n"
     ]
    }
   ],
   "source": [
    "print(Counter(general['Race']))\n",
    "print(Counter(joint['Race']))"
   ]
  },
  {
   "cell_type": "code",
   "execution_count": 11,
   "metadata": {
    "collapsed": false
   },
   "outputs": [
    {
     "name": "stdout",
     "output_type": "stream",
     "text": [
      "Counter({'Elective': 1086, 'Emergency': 208, 'Urgent': 54, 'Not Available': 5})\n",
      "Counter({'Elective': 1457, 'Emergency': 29, 'Urgent': 27})\n"
     ]
    }
   ],
   "source": [
    "print(Counter(general['Type of Admission']))\n",
    "print(Counter(joint['Type of Admission']))"
   ]
  },
  {
   "cell_type": "code",
   "execution_count": 12,
   "metadata": {
    "collapsed": false
   },
   "outputs": [
    {
     "name": "stdout",
     "output_type": "stream",
     "text": [
      "Counter({'Home w/ Home Health Services': 505, 'Skilled Nursing Home': 475, 'Inpatient Rehabilitation Facility': 225, 'Home or Self Care': 132, 'Short-term Hospital': 6, 'Psychiatric Hospital or Unit of Hosp': 3, 'Hospice - Medical Facility': 3, 'Expired': 3, 'Hospice - Home': 1})\n",
      "Counter({'Home w/ Home Health Services': 1190, 'Skilled Nursing Home': 214, 'Inpatient Rehabilitation Facility': 76, 'Home or Self Care': 32, 'Short-term Hospital': 1})\n"
     ]
    }
   ],
   "source": [
    "print(Counter(general['Patient Disposition']))\n",
    "print(Counter(joint['Patient Disposition']))"
   ]
  },
  {
   "cell_type": "code",
   "execution_count": null,
   "metadata": {
    "collapsed": false
   },
   "outputs": [],
   "source": []
  },
  {
   "cell_type": "code",
   "execution_count": null,
   "metadata": {
    "collapsed": true
   },
   "outputs": [],
   "source": []
  },
  {
   "cell_type": "code",
   "execution_count": null,
   "metadata": {
    "collapsed": true
   },
   "outputs": [],
   "source": []
  },
  {
   "cell_type": "code",
   "execution_count": null,
   "metadata": {
    "collapsed": true
   },
   "outputs": [],
   "source": []
  },
  {
   "cell_type": "code",
   "execution_count": null,
   "metadata": {
    "collapsed": true
   },
   "outputs": [],
   "source": []
  },
  {
   "cell_type": "code",
   "execution_count": null,
   "metadata": {
    "collapsed": true
   },
   "outputs": [],
   "source": []
  },
  {
   "cell_type": "code",
   "execution_count": null,
   "metadata": {
    "collapsed": true
   },
   "outputs": [],
   "source": []
  },
  {
   "cell_type": "code",
   "execution_count": null,
   "metadata": {
    "collapsed": true
   },
   "outputs": [],
   "source": []
  },
  {
   "cell_type": "code",
   "execution_count": null,
   "metadata": {
    "collapsed": true
   },
   "outputs": [],
   "source": []
  },
  {
   "cell_type": "code",
   "execution_count": null,
   "metadata": {
    "collapsed": true
   },
   "outputs": [],
   "source": []
  },
  {
   "cell_type": "code",
   "execution_count": null,
   "metadata": {
    "collapsed": true
   },
   "outputs": [],
   "source": []
  },
  {
   "cell_type": "code",
   "execution_count": null,
   "metadata": {
    "collapsed": true
   },
   "outputs": [],
   "source": []
  },
  {
   "cell_type": "code",
   "execution_count": null,
   "metadata": {
    "collapsed": true
   },
   "outputs": [],
   "source": []
  },
  {
   "cell_type": "code",
   "execution_count": 14,
   "metadata": {
    "collapsed": false
   },
   "outputs": [],
   "source": [
    "variable_general_np = np.array(variable_general)\n",
    "variable_joint_np = np.array(variable_joint)"
   ]
  },
  {
   "cell_type": "code",
   "execution_count": 15,
   "metadata": {
    "collapsed": false
   },
   "outputs": [],
   "source": [
    "ind_general = np.zeros(variable_general_np.shape[1])\n",
    "ind_joint = np.zeros(variable_joint_np.shape[1])\n",
    "general_joint_list = []\n",
    "for (N,i) in enumerate(ind_general):\n",
    "    if i == 0:\n",
    "        temp_joint = []\n",
    "        temp_general = [N]\n",
    "        ind_general[N] = 1\n",
    "        for j in xrange(variable_joint_np.shape[1]):\n",
    "            if (np.sum(variable_joint_np[:,j] == variable_general_np[:,N]) == 8) and ind_joint[j]==0:\n",
    "                temp_joint.append(j)\n",
    "                ind_joint[j] = 1\n",
    "        if len(temp_joint)!=0:\n",
    "            for j in xrange(variable_general_np.shape[1]):\n",
    "                if (np.sum(variable_general_np[:,j] == variable_general_np[:,N]) == 8) and ind_general[j]==0:\n",
    "                    temp_general.append(j)\n",
    "                    ind_general[j] = 1\n",
    "        general_joint_list.append([temp_general,temp_joint])\n",
    "general_joint_list_new = []\n",
    "for i in general_joint_list:\n",
    "    if len(i[0])>0 and len(i[1])>0:\n",
    "        general_joint_list_new.append(i)"
   ]
  },
  {
   "cell_type": "code",
   "execution_count": 16,
   "metadata": {
    "collapsed": false
   },
   "outputs": [],
   "source": [
    "general_joint_label = []\n",
    "for i in general_joint_list_new:\n",
    "    temp_general = []\n",
    "    temp_joint = []\n",
    "    for j in i[0]:\n",
    "        temp_general.append(label_general[j])\n",
    "    for j in i[1]:\n",
    "        temp_joint.append(label_joint[j])\n",
    "    general_joint_label.append([temp_general,temp_joint])"
   ]
  },
  {
   "cell_type": "code",
   "execution_count": 17,
   "metadata": {
    "collapsed": true
   },
   "outputs": [],
   "source": [
    "sample_pair = []\n",
    "for i in general_joint_list_new:\n",
    "    sample_size = min(len(i[0]),len(i[1]))\n",
    "    s0 = range(len(i[0]))\n",
    "    np.random.shuffle(s0)\n",
    "    s1 = range(len(i[1]))\n",
    "    np.random.shuffle(s1)\n",
    "    for j in xrange(sample_size):\n",
    "        sample_pair.append([i[0][s0[j]],i[1][s1[j]]])"
   ]
  },
  {
   "cell_type": "code",
   "execution_count": 18,
   "metadata": {
    "collapsed": false
   },
   "outputs": [],
   "source": [
    "i = sample_pair[0]\n",
    "variable_pair = variable_general_np[:,i[0]]\n",
    "label_pair = np.array([label_general[i[0]],label_joint[i[1]]])\n",
    "for i in sample_pair[1:]:\n",
    "    variable_pair = np.vstack((variable_pair,variable_general_np[:,i[0]]))\n",
    "    label_pair = np.vstack((label_pair,np.array([label_general[i[0]],label_joint[i[1]]])))"
   ]
  },
  {
   "cell_type": "code",
   "execution_count": 19,
   "metadata": {
    "collapsed": false
   },
   "outputs": [],
   "source": [
    "num_variable = variable_pair.shape[0]\n",
    "dic = {'0 to 17':0,'18 to 29':1, '30 to 49':2, '50 to 69':3, '70 or Older':4}\n",
    "temp = []\n",
    "class_name = ['age']\n",
    "for age in variable_pair[:,0]:\n",
    "    temp.append(dic[age])\n",
    "feature = np.array(temp).reshape((num_variable,1))\n",
    "for N in xrange(1,8):\n",
    "    if N == 7:\n",
    "        feature = np.hstack((feature, variable_pair[:,N].reshape((num_variable,1))))\n",
    "        class_name.append('APR Severity of Illness Code')\n",
    "    else:\n",
    "        temp = mlb.fit_transform(zip(list(variable_pair[:,N])))\n",
    "        feature = np.hstack((feature,temp))\n",
    "        class_name += list(mlb.classes_)"
   ]
  },
  {
   "cell_type": "code",
   "execution_count": 20,
   "metadata": {
    "collapsed": false
   },
   "outputs": [],
   "source": [
    "label_pair_1 = (label_pair[:,0] > label_pair[:,1])"
   ]
  },
  {
   "cell_type": "code",
   "execution_count": 31,
   "metadata": {
    "collapsed": false
   },
   "outputs": [
    {
     "name": "stdout",
     "output_type": "stream",
     "text": [
      "12\n",
      "2\n"
     ]
    }
   ],
   "source": [
    "from sklearn.ensemble import RandomForestClassifier\n",
    "accuracy_cv = np.zeros(1)\n",
    "for j in xrange(1):\n",
    "    clf = RandomForestClassifier(n_estimators = 100, oob_score = True , max_features = 0.05, n_jobs = -1)\n",
    "    clf = clf.fit(feature, label_pair_1)\n",
    "    prob = clf.oob_decision_function_\n",
    "    pred = (prob[:,0] < prob[:,1])\n",
    "    print(np.sum((pred == True)))\n",
    "    print(np.sum((pred == True) & (label_pair_1==True)))\n",
    "    #accuracy_cv[j] =  np.sum((pred == True) & (label_pair_1==True))/float(np.sum(pred==True))\n",
    "    "
   ]
  },
  {
   "cell_type": "code",
   "execution_count": 251,
   "metadata": {
    "collapsed": false
   },
   "outputs": [
    {
     "data": {
      "text/plain": [
       "623"
      ]
     },
     "execution_count": 251,
     "metadata": {},
     "output_type": "execute_result"
    }
   ],
   "source": [
    "np.sum(pred == True)"
   ]
  },
  {
   "cell_type": "code",
   "execution_count": 23,
   "metadata": {
    "collapsed": false
   },
   "outputs": [
    {
     "data": {
      "text/plain": [
       "559"
      ]
     },
     "execution_count": 23,
     "metadata": {},
     "output_type": "execute_result"
    }
   ],
   "source": [
    "np.sum(label_pair_1 == False)"
   ]
  },
  {
   "cell_type": "code",
   "execution_count": 265,
   "metadata": {
    "collapsed": false
   },
   "outputs": [
    {
     "data": {
      "text/plain": [
       "56"
      ]
     },
     "execution_count": 265,
     "metadata": {},
     "output_type": "execute_result"
    }
   ],
   "source": [
    "# 56 general costs more than joint  ;600 \n",
    "np.sum(label_pair_1)"
   ]
  },
  {
   "cell_type": "code",
   "execution_count": null,
   "metadata": {
    "collapsed": true
   },
   "outputs": [],
   "source": []
  }
 ],
 "metadata": {
  "kernelspec": {
   "display_name": "Python 2",
   "language": "python",
   "name": "python2"
  },
  "language_info": {
   "codemirror_mode": {
    "name": "ipython",
    "version": 2
   },
   "file_extension": ".py",
   "mimetype": "text/x-python",
   "name": "python",
   "nbconvert_exporter": "python",
   "pygments_lexer": "ipython2",
   "version": "2.7.10"
  }
 },
 "nbformat": 4,
 "nbformat_minor": 0
}
