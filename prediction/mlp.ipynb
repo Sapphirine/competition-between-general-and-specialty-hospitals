{
 "cells": [
  {
   "cell_type": "code",
   "execution_count": 1,
   "metadata": {
    "collapsed": false
   },
   "outputs": [
    {
     "name": "stderr",
     "output_type": "stream",
     "text": [
      "Using gpu device 0: GRID K520 (CNMeM is disabled, cuDNN Version is too old. Update to v5, was 3007.)\n",
      "/home/ubuntu/miniconda2/envs/theano/lib/python2.7/site-packages/theano/tensor/signal/downsample.py:6: UserWarning: downsample module has been moved to the theano.tensor.signal.pool module.\n",
      "  \"downsample module has been moved to the theano.tensor.signal.pool module.\")\n"
     ]
    }
   ],
   "source": [
    "import matplotlib\n",
    "import pylab\n",
    "%matplotlib inline\n",
    "\n",
    "from __future__ import print_function\n",
    "import six.moves.cPickle as pickle\n",
    "__docformat__ = 'restructedtext en'\n",
    "\n",
    "from collections import OrderedDict\n",
    "import copy\n",
    "import numpy\n",
    "import os\n",
    "import random\n",
    "import timeit\n",
    "\n",
    "import theano\n",
    "from theano import tensor as T\n",
    "\n",
    "from utils import load_data, contextwin, shuffle, conlleval, check_dir\n",
    "from nn import myMLP, train_nn\n",
    "from bigdata import test_mlp_parity\n",
    "\n",
    "# Otherwise the deepcopy fails\n",
    "import sys\n",
    "sys.setrecursionlimit(1500)"
   ]
  },
  {
   "cell_type": "code",
   "execution_count": 3,
   "metadata": {
    "collapsed": false,
    "scrolled": true
   },
   "outputs": [
    {
     "name": "stdout",
     "output_type": "stream",
     "text": [
      "... building the model\n",
      "... training\n",
      "Optimization complete.\n",
      "Best validation score of 78.437500 % obtained at iteration 21, with test performance 81.250000 %\n"
     ]
    },
    {
     "name": "stderr",
     "output_type": "stream",
     "text": [
      "The training process for function test_mlp_parity ran for 0.33m\n"
     ]
    }
   ],
   "source": [
    "[y1,y2] = test_mlp_parity(learning_rate=0.01, L1_reg=0.00, L2_reg=0.00, n_epochs=500,\n",
    "             batch_size=32, n_hidden=1000, n_hiddenLayers=2,\n",
    "             verbose=False)"
   ]
  },
  {
   "cell_type": "code",
   "execution_count": null,
   "metadata": {
    "collapsed": true
   },
   "outputs": [],
   "source": []
  },
  {
   "cell_type": "code",
   "execution_count": 2,
   "metadata": {
    "collapsed": false,
    "scrolled": true
   },
   "outputs": [
    {
     "name": "stdout",
     "output_type": "stream",
     "text": [
      "... building the model\n",
      "... training\n",
      "training @ iter =  0\n",
      "epoch 1, minibatch 21/21, validation error 81.875000 %\n",
      "     epoch 1, minibatch 21/21, test error of best model 78.750000 %\n",
      "epoch 2, minibatch 21/21, validation error 81.875000 %\n",
      "epoch 3, minibatch 21/21, validation error 81.875000 %\n",
      "epoch 4, minibatch 21/21, validation error 81.875000 %\n",
      "training @ iter =  100\n",
      "epoch 5, minibatch 21/21, validation error 81.875000 %\n",
      "epoch 6, minibatch 21/21, validation error 81.875000 %\n",
      "epoch 7, minibatch 21/21, validation error 81.875000 %\n",
      "epoch 8, minibatch 21/21, validation error 81.875000 %\n",
      "epoch 9, minibatch 21/21, validation error 81.875000 %\n",
      "training @ iter =  200\n",
      "epoch 10, minibatch 21/21, validation error 81.875000 %\n",
      "epoch 11, minibatch 21/21, validation error 81.875000 %\n",
      "epoch 12, minibatch 21/21, validation error 81.875000 %\n",
      "epoch 13, minibatch 21/21, validation error 81.875000 %\n",
      "epoch 14, minibatch 21/21, validation error 81.875000 %\n",
      "training @ iter =  300\n",
      "epoch 15, minibatch 21/21, validation error 81.875000 %\n",
      "epoch 16, minibatch 21/21, validation error 81.875000 %\n",
      "epoch 17, minibatch 21/21, validation error 81.875000 %\n",
      "epoch 18, minibatch 21/21, validation error 81.875000 %\n",
      "epoch 19, minibatch 21/21, validation error 81.875000 %\n",
      "training @ iter =  400\n",
      "epoch 20, minibatch 21/21, validation error 81.875000 %\n",
      "epoch 21, minibatch 21/21, validation error 81.875000 %\n",
      "epoch 22, minibatch 21/21, validation error 81.875000 %\n",
      "epoch 23, minibatch 21/21, validation error 81.875000 %\n",
      "training @ iter =  500\n",
      "epoch 24, minibatch 21/21, validation error 81.875000 %\n",
      "epoch 25, minibatch 21/21, validation error 81.875000 %\n",
      "epoch 26, minibatch 21/21, validation error 81.875000 %\n",
      "epoch 27, minibatch 21/21, validation error 81.875000 %\n",
      "epoch 28, minibatch 21/21, validation error 81.875000 %\n",
      "training @ iter =  600\n",
      "epoch 29, minibatch 21/21, validation error 81.875000 %\n",
      "epoch 30, minibatch 21/21, validation error 81.875000 %\n",
      "epoch 31, minibatch 21/21, validation error 81.875000 %\n",
      "epoch 32, minibatch 21/21, validation error 81.875000 %\n",
      "epoch 33, minibatch 21/21, validation error 81.875000 %\n",
      "training @ iter =  700\n",
      "epoch 34, minibatch 21/21, validation error 81.875000 %\n",
      "epoch 35, minibatch 21/21, validation error 81.875000 %\n",
      "epoch 36, minibatch 21/21, validation error 81.875000 %\n",
      "epoch 37, minibatch 21/21, validation error 81.875000 %\n",
      "epoch 38, minibatch 21/21, validation error 81.875000 %\n",
      "training @ iter =  800\n",
      "epoch 39, minibatch 21/21, validation error 81.875000 %\n",
      "epoch 40, minibatch 21/21, validation error 81.562500 %\n",
      "     epoch 40, minibatch 21/21, test error of best model 78.750000 %\n",
      "epoch 41, minibatch 21/21, validation error 81.562500 %\n",
      "epoch 42, minibatch 21/21, validation error 81.562500 %\n",
      "training @ iter =  900\n",
      "epoch 43, minibatch 21/21, validation error 81.562500 %\n",
      "epoch 44, minibatch 21/21, validation error 81.562500 %\n",
      "epoch 45, minibatch 21/21, validation error 81.562500 %\n",
      "epoch 46, minibatch 21/21, validation error 81.562500 %\n",
      "epoch 47, minibatch 21/21, validation error 81.562500 %\n",
      "training @ iter =  1000\n",
      "epoch 48, minibatch 21/21, validation error 81.250000 %\n",
      "     epoch 48, minibatch 21/21, test error of best model 78.750000 %\n",
      "epoch 49, minibatch 21/21, validation error 81.250000 %\n",
      "epoch 50, minibatch 21/21, validation error 81.250000 %\n",
      "Optimization complete.\n",
      "Best validation score of 81.250000 % obtained at iteration 1008, with test performance 78.750000 %\n"
     ]
    },
    {
     "name": "stderr",
     "output_type": "stream",
     "text": [
      "The training process for function test_mlp_parity ran for 0.01m\n"
     ]
    }
   ],
   "source": [
    "[y1,y2] = test_mlp_parity(learning_rate=0.01, L1_reg=0.00, L2_reg=0.00, n_epochs=50,\n",
    "             batch_size=32, n_hidden=80, n_hiddenLayers=2,\n",
    "             verbose=True)"
   ]
  },
  {
   "cell_type": "code",
   "execution_count": null,
   "metadata": {
    "collapsed": true
   },
   "outputs": [],
   "source": []
  }
 ],
 "metadata": {
  "kernelspec": {
   "display_name": "Python 2",
   "language": "python",
   "name": "python2"
  },
  "language_info": {
   "codemirror_mode": {
    "name": "ipython",
    "version": 2
   },
   "file_extension": ".py",
   "mimetype": "text/x-python",
   "name": "python",
   "nbconvert_exporter": "python",
   "pygments_lexer": "ipython2",
   "version": "2.7.11"
  }
 },
 "nbformat": 4,
 "nbformat_minor": 0
}
